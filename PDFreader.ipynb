{
 "cells": [
  {
   "cell_type": "code",
   "execution_count": 1,
   "metadata": {},
   "outputs": [
    {
     "name": "stdout",
     "output_type": "stream",
     "text": [
      "2021-04-27.twnrpts.pdf run  ok:)\n",
      "20210427_DLY_STMT.pdf run  ok:)\n",
      "dstm071234-R2390.pdf run  ok:)\n",
      "PSI9000_20210427.pdf run  ok:)\n"
     ]
    }
   ],
   "source": [
    "#!/usr/bin/env python\n",
    "# coding: utf-8\n",
    "\n",
    "# In[1]:\n",
    "\n",
    "\n",
    "import importlib\n",
    "import sys\n",
    "import time\n",
    "from pdfminer.pdfparser import PDFParser, PDFDocument\n",
    "from pdfminer.pdfinterp import PDFResourceManager, PDFPageInterpreter\n",
    "from pdfminer.converter import PDFPageAggregator\n",
    "from pdfminer.layout import LTTextBoxHorizontal, LAParams\n",
    "from pdfminer.pdfinterp import PDFTextExtractionNotAllowed\n",
    "import os\n",
    "from PyPDF2 import PdfFileReader\n",
    "from PyPDF2 import PdfFileWriter\n",
    " \n",
    "importlib.reload(sys)\n",
    "time1 = time.time()\n",
    "os.chdir('C:\\\\Users\\\\op1\\Desktop\\\\Pyfile\\\\上手風控\\\\data')\n",
    "def get_reader(filename, password):\n",
    "    try:\n",
    "        old_file = open(filename, 'rb')\n",
    "        print(filename+' run  ok:)')\n",
    "    except Exception as err:\n",
    "        print('打開失敗！' + str(err))\n",
    "        return None\n",
    " \n",
    "    pdf_reader = PdfFileReader(old_file, strict=False)\n",
    " \n",
    "    if pdf_reader.isEncrypted:\n",
    "        if password is None:\n",
    "            print('%s需要密碼！' % filename)\n",
    "            return None\n",
    "        else:\n",
    "            if pdf_reader.decrypt(password) != 1:\n",
    "                print('%s密碼錯誤！' % filename)\n",
    "                return None\n",
    "    if old_file in locals():\n",
    "        old_file.close()\n",
    "    return pdf_reader\n",
    " \n",
    "def decrypt_pdf(filename, password, decrypted_filename=None):\n",
    "    pdf_reader = get_reader(filename, password)\n",
    "    if pdf_reader is None:\n",
    "        return\n",
    "    pdf_writer = PdfFileWriter()\n",
    "    pdf_writer.appendPagesFromReader(pdf_reader)\n",
    " \n",
    "    if decrypted_filename is None:\n",
    "        decrypted_filename = 'new'+filename\n",
    " \n",
    "    pdf_writer.write(open(decrypted_filename, 'wb'))    \n",
    "\n",
    "    text_path = decrypted_filename\n",
    "    fp = open(text_path, 'rb')\n",
    "    parser = PDFParser(fp)\n",
    "    doc = PDFDocument()\n",
    "    parser.set_document(doc)\n",
    "    doc.set_parser(parser)\n",
    "    doc.initialize()\n",
    "     \n",
    "    if not doc.is_extractable:\n",
    "        raise PDFTextExtractionNotAllowed\n",
    "    else:\n",
    "        f = open(text_path.replace('pdf','txt'), 'w')\n",
    "        rsrcmgr = PDFResourceManager()\n",
    "        laparams = LAParams()\n",
    "        device = PDFPageAggregator(rsrcmgr, laparams=laparams)\n",
    "        interpreter = PDFPageInterpreter(rsrcmgr, device)\n",
    "        for page in doc.get_pages():\n",
    "            interpreter.process_page(page)\n",
    "            layout = device.get_result()\n",
    "            \n",
    "            for x in layout:\n",
    "                if (isinstance(x, LTTextBoxHorizontal)):\n",
    "                    results = x.get_text()\n",
    "                    f.write(results + \"\\n\")\n",
    "        f.close()\n",
    "\n",
    "fileList = os.listdir()\n",
    "fileList = [i for i in os.listdir() if i[-3:] == 'pdf'or i[-3:] == 'PDF']\n",
    "\n",
    "for i in fileList:\n",
    "    if 'PSI' in i:\n",
    "        decrypt_pdf(i, '84310042')\n",
    "    else:\n",
    "        decrypt_pdf(i, '')\n",
    "\n",
    "\n"
   ]
  },
  {
   "cell_type": "code",
   "execution_count": 1,
   "metadata": {},
   "outputs": [
    {
     "name": "stdout",
     "output_type": "stream",
     "text": [
      "['2021-04-27.twnrpts.pdf', '20210427_DLY_STMT.pdf', 'dstm071234-R2390.pdf', 'new2021-04-27.twnrpts.pdf', 'new20210427_DLY_STMT.pdf', 'newdstm071234-R2390.pdf', 'newPSI9000_20210427.pdf', 'PSI9000_20210427.pdf']\n"
     ]
    }
   ],
   "source": [
    "import os\n",
    "os.chdir('C:\\\\Users\\\\op1\\Desktop\\\\Pyfile\\\\上手風控\\\\data')\n",
    "fileList = os.listdir()\n",
    "fileList = [i for i in os.listdir() if i[-3:] == 'pdf'or i[-3:] == 'PDF']\n",
    "for i in fileList:\n",
    "    os.remove(i)\n",
    "print(fileList)"
   ]
  },
  {
   "cell_type": "code",
   "execution_count": null,
   "metadata": {},
   "outputs": [],
   "source": []
  }
 ],
 "metadata": {
  "kernelspec": {
   "display_name": "Python 3",
   "language": "python",
   "name": "python3"
  },
  "language_info": {
   "codemirror_mode": {
    "name": "ipython",
    "version": 3
   },
   "file_extension": ".py",
   "mimetype": "text/x-python",
   "name": "python",
   "nbconvert_exporter": "python",
   "pygments_lexer": "ipython3",
   "version": "3.8.2"
  },
  "varInspector": {
   "cols": {
    "lenName": 16,
    "lenType": 16,
    "lenVar": 40
   },
   "kernels_config": {
    "python": {
     "delete_cmd_postfix": "",
     "delete_cmd_prefix": "del ",
     "library": "var_list.py",
     "varRefreshCmd": "print(var_dic_list())"
    },
    "r": {
     "delete_cmd_postfix": ") ",
     "delete_cmd_prefix": "rm(",
     "library": "var_list.r",
     "varRefreshCmd": "cat(var_dic_list()) "
    }
   },
   "oldHeight": 320,
   "position": {
    "height": "342px",
    "left": "1390px",
    "right": "20px",
    "top": "95px",
    "width": "350px"
   },
   "types_to_exclude": [
    "module",
    "function",
    "builtin_function_or_method",
    "instance",
    "_Feature"
   ],
   "varInspector_section_display": "block",
   "window_display": true
  }
 },
 "nbformat": 4,
 "nbformat_minor": 4
}
