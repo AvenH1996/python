{
 "cells": [
  {
   "cell_type": "code",
   "execution_count": 144,
   "metadata": {},
   "outputs": [
    {
     "data": {
      "application/vnd.plotly.v1+json": {
       "config": {
        "plotlyServerURL": "https://plot.ly"
       },
       "data": [
        {
         "branchvalues": "total",
         "customdata": [
          [
           "ADM"
          ],
          [
           "PHI"
          ],
          [
           "IFP"
          ],
          [
           "ADM"
          ],
          [
           "PHI"
          ],
          [
           "IFP"
          ],
          [
           "ADM"
          ],
          [
           "SCG"
          ],
          [
           "ADM"
          ],
          [
           "SCG"
          ],
          [
           "ADM"
          ],
          [
           "PHI"
          ],
          [
           "PHI"
          ],
          [
           "PHI"
          ],
          [
           "IFP"
          ],
          [
           "SCG"
          ],
          [
           "IFP"
          ],
          [
           "ADM"
          ],
          [
           "ADM"
          ],
          [
           "ADM"
          ],
          [
           "PHI"
          ],
          [
           "PHI"
          ],
          [
           "IFP"
          ],
          [
           "IFP"
          ],
          [
           "ADM"
          ],
          [
           "PHI"
          ],
          [
           "SCG"
          ],
          [
           "IFP"
          ],
          [
           "PHI"
          ],
          [
           "ADM"
          ],
          [
           "PHI"
          ],
          [
           "ADM"
          ],
          [
           "ADM"
          ],
          [
           "IFP"
          ],
          [
           "PHI"
          ],
          [
           "SCG"
          ],
          [
           "IFP"
          ],
          [
           "PHI"
          ],
          [
           "PHI"
          ],
          [
           "IFP"
          ],
          [
           "ADM"
          ],
          [
           "IFP"
          ],
          [
           "PHI"
          ],
          [
           "SCG"
          ]
         ],
         "domain": {
          "x": [
           0,
           1
          ],
          "y": [
           0,
           1
          ]
         },
         "hovertemplate": "labels=%{label}<br>權益數=%{value}<br>parent=%{parent}<br>id=%{id}<br>上手=%{customdata[0]}<extra></extra>",
         "ids": [
          "ADM/CC/SEP21",
          "PHI/Other/Other",
          "IFP/Other/Other",
          "ADM/Other/Other",
          "PHI/VX/May21",
          "IFP/S/MAY21",
          "ADM/OJ/MAY21",
          "SCG/Other/Other",
          "ADM/CT/MAY21",
          "SCG/CL/MAY21",
          "ADM/CC/MAY21",
          "PHI/UB/Jun21",
          "PHI/GC/Jun21",
          "PHI/CL/Jun21",
          "IFP/YM/JUN21",
          "SCG/CL/JUN21",
          "IFP/B/JUN21",
          "ADM/OJ/JUL21",
          "ADM/CT/JUL21",
          "ADM/CC/JUL21",
          "PHI/VX/Apr21",
          "PHI/CN/Apr21",
          "IFP/CN/APR21",
          "IFP/B",
          "ADM/CC",
          "PHI/CL",
          "SCG/CL",
          "IFP/CN",
          "PHI/CN",
          "ADM/CT",
          "PHI/GC",
          "ADM/OJ",
          "ADM/Other",
          "IFP/Other",
          "PHI/Other",
          "SCG/Other",
          "IFP/S",
          "PHI/UB",
          "PHI/VX",
          "IFP/YM",
          "ADM",
          "IFP",
          "PHI",
          "SCG"
         ],
         "insidetextfont": {
          "family": "Times New Roman",
          "size": 23
         },
         "labels": [
          "SEP21",
          "Other",
          "Other",
          "Other",
          "May21",
          "MAY21",
          "MAY21",
          "Other",
          "MAY21",
          "MAY21",
          "MAY21",
          "Jun21",
          "Jun21",
          "Jun21",
          "JUN21",
          "JUN21",
          "JUN21",
          "JUL21",
          "JUL21",
          "JUL21",
          "Apr21",
          "Apr21",
          "APR21",
          "B",
          "CC",
          "CL",
          "CL",
          "CN",
          "CN",
          "CT",
          "GC",
          "OJ",
          "Other",
          "Other",
          "Other",
          "Other",
          "S",
          "UB",
          "VX",
          "YM",
          "ADM",
          "IFP",
          "PHI",
          "SCG"
         ],
         "marker": {
          "colors": [
           "#3366CC",
           "#DC3912",
           "#FF9900",
           "#3366CC",
           "#DC3912",
           "#FF9900",
           "#3366CC",
           "#109618",
           "#3366CC",
           "#109618",
           "#3366CC",
           "#DC3912",
           "#DC3912",
           "#DC3912",
           "#FF9900",
           "#109618",
           "#FF9900",
           "#3366CC",
           "#3366CC",
           "#3366CC",
           "#DC3912",
           "#DC3912",
           "#FF9900",
           "#FF9900",
           "#3366CC",
           "#DC3912",
           "#109618",
           "#FF9900",
           "#DC3912",
           "#3366CC",
           "#DC3912",
           "#3366CC",
           "#3366CC",
           "#FF9900",
           "#DC3912",
           "#109618",
           "#FF9900",
           "#DC3912",
           "#DC3912",
           "#FF9900",
           "#3366CC",
           "#FF9900",
           "#DC3912",
           "#109618"
          ]
         },
         "maxdepth": 3,
         "name": "",
         "parents": [
          "ADM/CC",
          "PHI/Other",
          "IFP/Other",
          "ADM/Other",
          "PHI/VX",
          "IFP/S",
          "ADM/OJ",
          "SCG/Other",
          "ADM/CT",
          "SCG/CL",
          "ADM/CC",
          "PHI/UB",
          "PHI/GC",
          "PHI/CL",
          "IFP/YM",
          "SCG/CL",
          "IFP/B",
          "ADM/OJ",
          "ADM/CT",
          "ADM/CC",
          "PHI/VX",
          "PHI/CN",
          "IFP/CN",
          "IFP",
          "ADM",
          "PHI",
          "SCG",
          "IFP",
          "PHI",
          "ADM",
          "PHI",
          "ADM",
          "ADM",
          "IFP",
          "PHI",
          "SCG",
          "IFP",
          "PHI",
          "PHI",
          "IFP",
          "",
          "",
          "",
          ""
         ],
         "textinfo": "label+percent entry+value+text",
         "type": "sunburst",
         "values": [
          4180,
          8988725,
          466550,
          0,
          9205350,
          1127610,
          4158,
          1075634,
          8745,
          8802090,
          2090,
          12704780,
          7337000,
          18748620,
          910800,
          5638050,
          7391736,
          4158,
          5830,
          10450,
          5613300,
          16043500,
          676500,
          7391736,
          16720,
          18748620,
          14440140,
          676500,
          16043500,
          14575,
          7337000,
          8316,
          0,
          466550,
          8988725,
          1075634,
          1127610,
          12704780,
          14818650,
          910800,
          39611,
          10573196,
          78641275,
          15515774
         ]
        }
       ],
       "layout": {
        "height": 800,
        "legend": {
         "tracegroupgap": 0
        },
        "sunburstcolorway": [
         "#3366CC",
         "#DC3912",
         "#FF9900",
         "#109618",
         "#990099",
         "#0099C6",
         "#DD4477",
         "#66AA00",
         "#B82E2E",
         "#316395"
        ],
        "template": {
         "data": {
          "bar": [
           {
            "error_x": {
             "color": "#2a3f5f"
            },
            "error_y": {
             "color": "#2a3f5f"
            },
            "marker": {
             "line": {
              "color": "#E5ECF6",
              "width": 0.5
             }
            },
            "type": "bar"
           }
          ],
          "barpolar": [
           {
            "marker": {
             "line": {
              "color": "#E5ECF6",
              "width": 0.5
             }
            },
            "type": "barpolar"
           }
          ],
          "carpet": [
           {
            "aaxis": {
             "endlinecolor": "#2a3f5f",
             "gridcolor": "white",
             "linecolor": "white",
             "minorgridcolor": "white",
             "startlinecolor": "#2a3f5f"
            },
            "baxis": {
             "endlinecolor": "#2a3f5f",
             "gridcolor": "white",
             "linecolor": "white",
             "minorgridcolor": "white",
             "startlinecolor": "#2a3f5f"
            },
            "type": "carpet"
           }
          ],
          "choropleth": [
           {
            "colorbar": {
             "outlinewidth": 0,
             "ticks": ""
            },
            "type": "choropleth"
           }
          ],
          "contour": [
           {
            "colorbar": {
             "outlinewidth": 0,
             "ticks": ""
            },
            "colorscale": [
             [
              0,
              "#0d0887"
             ],
             [
              0.1111111111111111,
              "#46039f"
             ],
             [
              0.2222222222222222,
              "#7201a8"
             ],
             [
              0.3333333333333333,
              "#9c179e"
             ],
             [
              0.4444444444444444,
              "#bd3786"
             ],
             [
              0.5555555555555556,
              "#d8576b"
             ],
             [
              0.6666666666666666,
              "#ed7953"
             ],
             [
              0.7777777777777778,
              "#fb9f3a"
             ],
             [
              0.8888888888888888,
              "#fdca26"
             ],
             [
              1,
              "#f0f921"
             ]
            ],
            "type": "contour"
           }
          ],
          "contourcarpet": [
           {
            "colorbar": {
             "outlinewidth": 0,
             "ticks": ""
            },
            "type": "contourcarpet"
           }
          ],
          "heatmap": [
           {
            "colorbar": {
             "outlinewidth": 0,
             "ticks": ""
            },
            "colorscale": [
             [
              0,
              "#0d0887"
             ],
             [
              0.1111111111111111,
              "#46039f"
             ],
             [
              0.2222222222222222,
              "#7201a8"
             ],
             [
              0.3333333333333333,
              "#9c179e"
             ],
             [
              0.4444444444444444,
              "#bd3786"
             ],
             [
              0.5555555555555556,
              "#d8576b"
             ],
             [
              0.6666666666666666,
              "#ed7953"
             ],
             [
              0.7777777777777778,
              "#fb9f3a"
             ],
             [
              0.8888888888888888,
              "#fdca26"
             ],
             [
              1,
              "#f0f921"
             ]
            ],
            "type": "heatmap"
           }
          ],
          "heatmapgl": [
           {
            "colorbar": {
             "outlinewidth": 0,
             "ticks": ""
            },
            "colorscale": [
             [
              0,
              "#0d0887"
             ],
             [
              0.1111111111111111,
              "#46039f"
             ],
             [
              0.2222222222222222,
              "#7201a8"
             ],
             [
              0.3333333333333333,
              "#9c179e"
             ],
             [
              0.4444444444444444,
              "#bd3786"
             ],
             [
              0.5555555555555556,
              "#d8576b"
             ],
             [
              0.6666666666666666,
              "#ed7953"
             ],
             [
              0.7777777777777778,
              "#fb9f3a"
             ],
             [
              0.8888888888888888,
              "#fdca26"
             ],
             [
              1,
              "#f0f921"
             ]
            ],
            "type": "heatmapgl"
           }
          ],
          "histogram": [
           {
            "marker": {
             "colorbar": {
              "outlinewidth": 0,
              "ticks": ""
             }
            },
            "type": "histogram"
           }
          ],
          "histogram2d": [
           {
            "colorbar": {
             "outlinewidth": 0,
             "ticks": ""
            },
            "colorscale": [
             [
              0,
              "#0d0887"
             ],
             [
              0.1111111111111111,
              "#46039f"
             ],
             [
              0.2222222222222222,
              "#7201a8"
             ],
             [
              0.3333333333333333,
              "#9c179e"
             ],
             [
              0.4444444444444444,
              "#bd3786"
             ],
             [
              0.5555555555555556,
              "#d8576b"
             ],
             [
              0.6666666666666666,
              "#ed7953"
             ],
             [
              0.7777777777777778,
              "#fb9f3a"
             ],
             [
              0.8888888888888888,
              "#fdca26"
             ],
             [
              1,
              "#f0f921"
             ]
            ],
            "type": "histogram2d"
           }
          ],
          "histogram2dcontour": [
           {
            "colorbar": {
             "outlinewidth": 0,
             "ticks": ""
            },
            "colorscale": [
             [
              0,
              "#0d0887"
             ],
             [
              0.1111111111111111,
              "#46039f"
             ],
             [
              0.2222222222222222,
              "#7201a8"
             ],
             [
              0.3333333333333333,
              "#9c179e"
             ],
             [
              0.4444444444444444,
              "#bd3786"
             ],
             [
              0.5555555555555556,
              "#d8576b"
             ],
             [
              0.6666666666666666,
              "#ed7953"
             ],
             [
              0.7777777777777778,
              "#fb9f3a"
             ],
             [
              0.8888888888888888,
              "#fdca26"
             ],
             [
              1,
              "#f0f921"
             ]
            ],
            "type": "histogram2dcontour"
           }
          ],
          "mesh3d": [
           {
            "colorbar": {
             "outlinewidth": 0,
             "ticks": ""
            },
            "type": "mesh3d"
           }
          ],
          "parcoords": [
           {
            "line": {
             "colorbar": {
              "outlinewidth": 0,
              "ticks": ""
             }
            },
            "type": "parcoords"
           }
          ],
          "pie": [
           {
            "automargin": true,
            "type": "pie"
           }
          ],
          "scatter": [
           {
            "marker": {
             "colorbar": {
              "outlinewidth": 0,
              "ticks": ""
             }
            },
            "type": "scatter"
           }
          ],
          "scatter3d": [
           {
            "line": {
             "colorbar": {
              "outlinewidth": 0,
              "ticks": ""
             }
            },
            "marker": {
             "colorbar": {
              "outlinewidth": 0,
              "ticks": ""
             }
            },
            "type": "scatter3d"
           }
          ],
          "scattercarpet": [
           {
            "marker": {
             "colorbar": {
              "outlinewidth": 0,
              "ticks": ""
             }
            },
            "type": "scattercarpet"
           }
          ],
          "scattergeo": [
           {
            "marker": {
             "colorbar": {
              "outlinewidth": 0,
              "ticks": ""
             }
            },
            "type": "scattergeo"
           }
          ],
          "scattergl": [
           {
            "marker": {
             "colorbar": {
              "outlinewidth": 0,
              "ticks": ""
             }
            },
            "type": "scattergl"
           }
          ],
          "scattermapbox": [
           {
            "marker": {
             "colorbar": {
              "outlinewidth": 0,
              "ticks": ""
             }
            },
            "type": "scattermapbox"
           }
          ],
          "scatterpolar": [
           {
            "marker": {
             "colorbar": {
              "outlinewidth": 0,
              "ticks": ""
             }
            },
            "type": "scatterpolar"
           }
          ],
          "scatterpolargl": [
           {
            "marker": {
             "colorbar": {
              "outlinewidth": 0,
              "ticks": ""
             }
            },
            "type": "scatterpolargl"
           }
          ],
          "scatterternary": [
           {
            "marker": {
             "colorbar": {
              "outlinewidth": 0,
              "ticks": ""
             }
            },
            "type": "scatterternary"
           }
          ],
          "surface": [
           {
            "colorbar": {
             "outlinewidth": 0,
             "ticks": ""
            },
            "colorscale": [
             [
              0,
              "#0d0887"
             ],
             [
              0.1111111111111111,
              "#46039f"
             ],
             [
              0.2222222222222222,
              "#7201a8"
             ],
             [
              0.3333333333333333,
              "#9c179e"
             ],
             [
              0.4444444444444444,
              "#bd3786"
             ],
             [
              0.5555555555555556,
              "#d8576b"
             ],
             [
              0.6666666666666666,
              "#ed7953"
             ],
             [
              0.7777777777777778,
              "#fb9f3a"
             ],
             [
              0.8888888888888888,
              "#fdca26"
             ],
             [
              1,
              "#f0f921"
             ]
            ],
            "type": "surface"
           }
          ],
          "table": [
           {
            "cells": {
             "fill": {
              "color": "#EBF0F8"
             },
             "line": {
              "color": "white"
             }
            },
            "header": {
             "fill": {
              "color": "#C8D4E3"
             },
             "line": {
              "color": "white"
             }
            },
            "type": "table"
           }
          ]
         },
         "layout": {
          "annotationdefaults": {
           "arrowcolor": "#2a3f5f",
           "arrowhead": 0,
           "arrowwidth": 1
          },
          "autotypenumbers": "strict",
          "coloraxis": {
           "colorbar": {
            "outlinewidth": 0,
            "ticks": ""
           }
          },
          "colorscale": {
           "diverging": [
            [
             0,
             "#8e0152"
            ],
            [
             0.1,
             "#c51b7d"
            ],
            [
             0.2,
             "#de77ae"
            ],
            [
             0.3,
             "#f1b6da"
            ],
            [
             0.4,
             "#fde0ef"
            ],
            [
             0.5,
             "#f7f7f7"
            ],
            [
             0.6,
             "#e6f5d0"
            ],
            [
             0.7,
             "#b8e186"
            ],
            [
             0.8,
             "#7fbc41"
            ],
            [
             0.9,
             "#4d9221"
            ],
            [
             1,
             "#276419"
            ]
           ],
           "sequential": [
            [
             0,
             "#0d0887"
            ],
            [
             0.1111111111111111,
             "#46039f"
            ],
            [
             0.2222222222222222,
             "#7201a8"
            ],
            [
             0.3333333333333333,
             "#9c179e"
            ],
            [
             0.4444444444444444,
             "#bd3786"
            ],
            [
             0.5555555555555556,
             "#d8576b"
            ],
            [
             0.6666666666666666,
             "#ed7953"
            ],
            [
             0.7777777777777778,
             "#fb9f3a"
            ],
            [
             0.8888888888888888,
             "#fdca26"
            ],
            [
             1,
             "#f0f921"
            ]
           ],
           "sequentialminus": [
            [
             0,
             "#0d0887"
            ],
            [
             0.1111111111111111,
             "#46039f"
            ],
            [
             0.2222222222222222,
             "#7201a8"
            ],
            [
             0.3333333333333333,
             "#9c179e"
            ],
            [
             0.4444444444444444,
             "#bd3786"
            ],
            [
             0.5555555555555556,
             "#d8576b"
            ],
            [
             0.6666666666666666,
             "#ed7953"
            ],
            [
             0.7777777777777778,
             "#fb9f3a"
            ],
            [
             0.8888888888888888,
             "#fdca26"
            ],
            [
             1,
             "#f0f921"
            ]
           ]
          },
          "colorway": [
           "#636efa",
           "#EF553B",
           "#00cc96",
           "#ab63fa",
           "#FFA15A",
           "#19d3f3",
           "#FF6692",
           "#B6E880",
           "#FF97FF",
           "#FECB52"
          ],
          "font": {
           "color": "#2a3f5f"
          },
          "geo": {
           "bgcolor": "white",
           "lakecolor": "white",
           "landcolor": "#E5ECF6",
           "showlakes": true,
           "showland": true,
           "subunitcolor": "white"
          },
          "hoverlabel": {
           "align": "left"
          },
          "hovermode": "closest",
          "mapbox": {
           "style": "light"
          },
          "paper_bgcolor": "white",
          "plot_bgcolor": "#E5ECF6",
          "polar": {
           "angularaxis": {
            "gridcolor": "white",
            "linecolor": "white",
            "ticks": ""
           },
           "bgcolor": "#E5ECF6",
           "radialaxis": {
            "gridcolor": "white",
            "linecolor": "white",
            "ticks": ""
           }
          },
          "scene": {
           "xaxis": {
            "backgroundcolor": "#E5ECF6",
            "gridcolor": "white",
            "gridwidth": 2,
            "linecolor": "white",
            "showbackground": true,
            "ticks": "",
            "zerolinecolor": "white"
           },
           "yaxis": {
            "backgroundcolor": "#E5ECF6",
            "gridcolor": "white",
            "gridwidth": 2,
            "linecolor": "white",
            "showbackground": true,
            "ticks": "",
            "zerolinecolor": "white"
           },
           "zaxis": {
            "backgroundcolor": "#E5ECF6",
            "gridcolor": "white",
            "gridwidth": 2,
            "linecolor": "white",
            "showbackground": true,
            "ticks": "",
            "zerolinecolor": "white"
           }
          },
          "shapedefaults": {
           "line": {
            "color": "#2a3f5f"
           }
          },
          "ternary": {
           "aaxis": {
            "gridcolor": "white",
            "linecolor": "white",
            "ticks": ""
           },
           "baxis": {
            "gridcolor": "white",
            "linecolor": "white",
            "ticks": ""
           },
           "bgcolor": "#E5ECF6",
           "caxis": {
            "gridcolor": "white",
            "linecolor": "white",
            "ticks": ""
           }
          },
          "title": {
           "x": 0.05
          },
          "xaxis": {
           "automargin": true,
           "gridcolor": "white",
           "linecolor": "white",
           "ticks": "",
           "title": {
            "standoff": 15
           },
           "zerolinecolor": "white",
           "zerolinewidth": 2
          },
          "yaxis": {
           "automargin": true,
           "gridcolor": "white",
           "linecolor": "white",
           "ticks": "",
           "title": {
            "standoff": 15
           },
           "zerolinecolor": "white",
           "zerolinewidth": 2
          }
         }
        },
        "title": {
         "font": {
          "family": "Times New Roman",
          "size": 23
         },
         "text": "2021-0408 統一期貨美金保證金"
        },
        "width": 1200
       }
      },
      "text/html": [
       "<div>                            <div id=\"32be03c2-c571-4d55-948b-da4a00695b46\" class=\"plotly-graph-div\" style=\"height:800px; width:1200px;\"></div>            <script type=\"text/javascript\">                require([\"plotly\"], function(Plotly) {                    window.PLOTLYENV=window.PLOTLYENV || {};                                    if (document.getElementById(\"32be03c2-c571-4d55-948b-da4a00695b46\")) {                    Plotly.newPlot(                        \"32be03c2-c571-4d55-948b-da4a00695b46\",                        [{\"branchvalues\": \"total\", \"customdata\": [[\"ADM\"], [\"PHI\"], [\"IFP\"], [\"ADM\"], [\"PHI\"], [\"IFP\"], [\"ADM\"], [\"SCG\"], [\"ADM\"], [\"SCG\"], [\"ADM\"], [\"PHI\"], [\"PHI\"], [\"PHI\"], [\"IFP\"], [\"SCG\"], [\"IFP\"], [\"ADM\"], [\"ADM\"], [\"ADM\"], [\"PHI\"], [\"PHI\"], [\"IFP\"], [\"IFP\"], [\"ADM\"], [\"PHI\"], [\"SCG\"], [\"IFP\"], [\"PHI\"], [\"ADM\"], [\"PHI\"], [\"ADM\"], [\"ADM\"], [\"IFP\"], [\"PHI\"], [\"SCG\"], [\"IFP\"], [\"PHI\"], [\"PHI\"], [\"IFP\"], [\"ADM\"], [\"IFP\"], [\"PHI\"], [\"SCG\"]], \"domain\": {\"x\": [0.0, 1.0], \"y\": [0.0, 1.0]}, \"hovertemplate\": \"labels=%{label}<br>\\u6b0a\\u76ca\\u6578=%{value}<br>parent=%{parent}<br>id=%{id}<br>\\u4e0a\\u624b=%{customdata[0]}<extra></extra>\", \"ids\": [\"ADM/CC/SEP21\", \"PHI/Other/Other\", \"IFP/Other/Other\", \"ADM/Other/Other\", \"PHI/VX/May21\", \"IFP/S/MAY21\", \"ADM/OJ/MAY21\", \"SCG/Other/Other\", \"ADM/CT/MAY21\", \"SCG/CL/MAY21\", \"ADM/CC/MAY21\", \"PHI/UB/Jun21\", \"PHI/GC/Jun21\", \"PHI/CL/Jun21\", \"IFP/YM/JUN21\", \"SCG/CL/JUN21\", \"IFP/B/JUN21\", \"ADM/OJ/JUL21\", \"ADM/CT/JUL21\", \"ADM/CC/JUL21\", \"PHI/VX/Apr21\", \"PHI/CN/Apr21\", \"IFP/CN/APR21\", \"IFP/B\", \"ADM/CC\", \"PHI/CL\", \"SCG/CL\", \"IFP/CN\", \"PHI/CN\", \"ADM/CT\", \"PHI/GC\", \"ADM/OJ\", \"ADM/Other\", \"IFP/Other\", \"PHI/Other\", \"SCG/Other\", \"IFP/S\", \"PHI/UB\", \"PHI/VX\", \"IFP/YM\", \"ADM\", \"IFP\", \"PHI\", \"SCG\"], \"insidetextfont\": {\"family\": \"Times New Roman\", \"size\": 23}, \"labels\": [\"SEP21\", \"Other\", \"Other\", \"Other\", \"May21\", \"MAY21\", \"MAY21\", \"Other\", \"MAY21\", \"MAY21\", \"MAY21\", \"Jun21\", \"Jun21\", \"Jun21\", \"JUN21\", \"JUN21\", \"JUN21\", \"JUL21\", \"JUL21\", \"JUL21\", \"Apr21\", \"Apr21\", \"APR21\", \"B\", \"CC\", \"CL\", \"CL\", \"CN\", \"CN\", \"CT\", \"GC\", \"OJ\", \"Other\", \"Other\", \"Other\", \"Other\", \"S\", \"UB\", \"VX\", \"YM\", \"ADM\", \"IFP\", \"PHI\", \"SCG\"], \"marker\": {\"colors\": [\"#3366CC\", \"#DC3912\", \"#FF9900\", \"#3366CC\", \"#DC3912\", \"#FF9900\", \"#3366CC\", \"#109618\", \"#3366CC\", \"#109618\", \"#3366CC\", \"#DC3912\", \"#DC3912\", \"#DC3912\", \"#FF9900\", \"#109618\", \"#FF9900\", \"#3366CC\", \"#3366CC\", \"#3366CC\", \"#DC3912\", \"#DC3912\", \"#FF9900\", \"#FF9900\", \"#3366CC\", \"#DC3912\", \"#109618\", \"#FF9900\", \"#DC3912\", \"#3366CC\", \"#DC3912\", \"#3366CC\", \"#3366CC\", \"#FF9900\", \"#DC3912\", \"#109618\", \"#FF9900\", \"#DC3912\", \"#DC3912\", \"#FF9900\", \"#3366CC\", \"#FF9900\", \"#DC3912\", \"#109618\"]}, \"maxdepth\": 3, \"name\": \"\", \"parents\": [\"ADM/CC\", \"PHI/Other\", \"IFP/Other\", \"ADM/Other\", \"PHI/VX\", \"IFP/S\", \"ADM/OJ\", \"SCG/Other\", \"ADM/CT\", \"SCG/CL\", \"ADM/CC\", \"PHI/UB\", \"PHI/GC\", \"PHI/CL\", \"IFP/YM\", \"SCG/CL\", \"IFP/B\", \"ADM/OJ\", \"ADM/CT\", \"ADM/CC\", \"PHI/VX\", \"PHI/CN\", \"IFP/CN\", \"IFP\", \"ADM\", \"PHI\", \"SCG\", \"IFP\", \"PHI\", \"ADM\", \"PHI\", \"ADM\", \"ADM\", \"IFP\", \"PHI\", \"SCG\", \"IFP\", \"PHI\", \"PHI\", \"IFP\", \"\", \"\", \"\", \"\"], \"textinfo\": \"label+percent entry+value+text\", \"type\": \"sunburst\", \"values\": [4180, 8988725, 466550, 0, 9205350, 1127610, 4158, 1075634, 8745, 8802090, 2090, 12704780, 7337000, 18748620, 910800, 5638050, 7391736, 4158, 5830, 10450, 5613300, 16043500, 676500, 7391736, 16720, 18748620, 14440140, 676500, 16043500, 14575, 7337000, 8316, 0, 466550, 8988725, 1075634, 1127610, 12704780, 14818650, 910800, 39611, 10573196, 78641275, 15515774]}],                        {\"height\": 800, \"legend\": {\"tracegroupgap\": 0}, \"sunburstcolorway\": [\"#3366CC\", \"#DC3912\", \"#FF9900\", \"#109618\", \"#990099\", \"#0099C6\", \"#DD4477\", \"#66AA00\", \"#B82E2E\", \"#316395\"], \"template\": {\"data\": {\"bar\": [{\"error_x\": {\"color\": \"#2a3f5f\"}, \"error_y\": {\"color\": \"#2a3f5f\"}, \"marker\": {\"line\": {\"color\": \"#E5ECF6\", \"width\": 0.5}}, \"type\": \"bar\"}], \"barpolar\": [{\"marker\": {\"line\": {\"color\": \"#E5ECF6\", \"width\": 0.5}}, \"type\": \"barpolar\"}], \"carpet\": [{\"aaxis\": {\"endlinecolor\": \"#2a3f5f\", \"gridcolor\": \"white\", \"linecolor\": \"white\", \"minorgridcolor\": \"white\", \"startlinecolor\": \"#2a3f5f\"}, \"baxis\": {\"endlinecolor\": \"#2a3f5f\", \"gridcolor\": \"white\", \"linecolor\": \"white\", \"minorgridcolor\": \"white\", \"startlinecolor\": \"#2a3f5f\"}, \"type\": \"carpet\"}], \"choropleth\": [{\"colorbar\": {\"outlinewidth\": 0, \"ticks\": \"\"}, \"type\": \"choropleth\"}], \"contour\": [{\"colorbar\": {\"outlinewidth\": 0, \"ticks\": \"\"}, \"colorscale\": [[0.0, \"#0d0887\"], [0.1111111111111111, \"#46039f\"], [0.2222222222222222, \"#7201a8\"], [0.3333333333333333, \"#9c179e\"], [0.4444444444444444, \"#bd3786\"], [0.5555555555555556, \"#d8576b\"], [0.6666666666666666, \"#ed7953\"], [0.7777777777777778, \"#fb9f3a\"], [0.8888888888888888, \"#fdca26\"], [1.0, \"#f0f921\"]], \"type\": \"contour\"}], \"contourcarpet\": [{\"colorbar\": {\"outlinewidth\": 0, \"ticks\": \"\"}, \"type\": \"contourcarpet\"}], \"heatmap\": [{\"colorbar\": {\"outlinewidth\": 0, \"ticks\": \"\"}, \"colorscale\": [[0.0, \"#0d0887\"], [0.1111111111111111, \"#46039f\"], [0.2222222222222222, \"#7201a8\"], [0.3333333333333333, \"#9c179e\"], [0.4444444444444444, \"#bd3786\"], [0.5555555555555556, \"#d8576b\"], [0.6666666666666666, \"#ed7953\"], [0.7777777777777778, \"#fb9f3a\"], [0.8888888888888888, \"#fdca26\"], [1.0, \"#f0f921\"]], \"type\": \"heatmap\"}], \"heatmapgl\": [{\"colorbar\": {\"outlinewidth\": 0, \"ticks\": \"\"}, \"colorscale\": [[0.0, \"#0d0887\"], [0.1111111111111111, \"#46039f\"], [0.2222222222222222, \"#7201a8\"], [0.3333333333333333, \"#9c179e\"], [0.4444444444444444, \"#bd3786\"], [0.5555555555555556, \"#d8576b\"], [0.6666666666666666, \"#ed7953\"], [0.7777777777777778, \"#fb9f3a\"], [0.8888888888888888, \"#fdca26\"], [1.0, \"#f0f921\"]], \"type\": \"heatmapgl\"}], \"histogram\": [{\"marker\": {\"colorbar\": {\"outlinewidth\": 0, \"ticks\": \"\"}}, \"type\": \"histogram\"}], \"histogram2d\": [{\"colorbar\": {\"outlinewidth\": 0, \"ticks\": \"\"}, \"colorscale\": [[0.0, \"#0d0887\"], [0.1111111111111111, \"#46039f\"], [0.2222222222222222, \"#7201a8\"], [0.3333333333333333, \"#9c179e\"], [0.4444444444444444, \"#bd3786\"], [0.5555555555555556, \"#d8576b\"], [0.6666666666666666, \"#ed7953\"], [0.7777777777777778, \"#fb9f3a\"], [0.8888888888888888, \"#fdca26\"], [1.0, \"#f0f921\"]], \"type\": \"histogram2d\"}], \"histogram2dcontour\": [{\"colorbar\": {\"outlinewidth\": 0, \"ticks\": \"\"}, \"colorscale\": [[0.0, \"#0d0887\"], [0.1111111111111111, \"#46039f\"], [0.2222222222222222, \"#7201a8\"], [0.3333333333333333, \"#9c179e\"], [0.4444444444444444, \"#bd3786\"], [0.5555555555555556, \"#d8576b\"], [0.6666666666666666, \"#ed7953\"], [0.7777777777777778, \"#fb9f3a\"], [0.8888888888888888, \"#fdca26\"], [1.0, \"#f0f921\"]], \"type\": \"histogram2dcontour\"}], \"mesh3d\": [{\"colorbar\": {\"outlinewidth\": 0, \"ticks\": \"\"}, \"type\": \"mesh3d\"}], \"parcoords\": [{\"line\": {\"colorbar\": {\"outlinewidth\": 0, \"ticks\": \"\"}}, \"type\": \"parcoords\"}], \"pie\": [{\"automargin\": true, \"type\": \"pie\"}], \"scatter\": [{\"marker\": {\"colorbar\": {\"outlinewidth\": 0, \"ticks\": \"\"}}, \"type\": \"scatter\"}], \"scatter3d\": [{\"line\": {\"colorbar\": {\"outlinewidth\": 0, \"ticks\": \"\"}}, \"marker\": {\"colorbar\": {\"outlinewidth\": 0, \"ticks\": \"\"}}, \"type\": \"scatter3d\"}], \"scattercarpet\": [{\"marker\": {\"colorbar\": {\"outlinewidth\": 0, \"ticks\": \"\"}}, \"type\": \"scattercarpet\"}], \"scattergeo\": [{\"marker\": {\"colorbar\": {\"outlinewidth\": 0, \"ticks\": \"\"}}, \"type\": \"scattergeo\"}], \"scattergl\": [{\"marker\": {\"colorbar\": {\"outlinewidth\": 0, \"ticks\": \"\"}}, \"type\": \"scattergl\"}], \"scattermapbox\": [{\"marker\": {\"colorbar\": {\"outlinewidth\": 0, \"ticks\": \"\"}}, \"type\": \"scattermapbox\"}], \"scatterpolar\": [{\"marker\": {\"colorbar\": {\"outlinewidth\": 0, \"ticks\": \"\"}}, \"type\": \"scatterpolar\"}], \"scatterpolargl\": [{\"marker\": {\"colorbar\": {\"outlinewidth\": 0, \"ticks\": \"\"}}, \"type\": \"scatterpolargl\"}], \"scatterternary\": [{\"marker\": {\"colorbar\": {\"outlinewidth\": 0, \"ticks\": \"\"}}, \"type\": \"scatterternary\"}], \"surface\": [{\"colorbar\": {\"outlinewidth\": 0, \"ticks\": \"\"}, \"colorscale\": [[0.0, \"#0d0887\"], [0.1111111111111111, \"#46039f\"], [0.2222222222222222, \"#7201a8\"], [0.3333333333333333, \"#9c179e\"], [0.4444444444444444, \"#bd3786\"], [0.5555555555555556, \"#d8576b\"], [0.6666666666666666, \"#ed7953\"], [0.7777777777777778, \"#fb9f3a\"], [0.8888888888888888, \"#fdca26\"], [1.0, \"#f0f921\"]], \"type\": \"surface\"}], \"table\": [{\"cells\": {\"fill\": {\"color\": \"#EBF0F8\"}, \"line\": {\"color\": \"white\"}}, \"header\": {\"fill\": {\"color\": \"#C8D4E3\"}, \"line\": {\"color\": \"white\"}}, \"type\": \"table\"}]}, \"layout\": {\"annotationdefaults\": {\"arrowcolor\": \"#2a3f5f\", \"arrowhead\": 0, \"arrowwidth\": 1}, \"autotypenumbers\": \"strict\", \"coloraxis\": {\"colorbar\": {\"outlinewidth\": 0, \"ticks\": \"\"}}, \"colorscale\": {\"diverging\": [[0, \"#8e0152\"], [0.1, \"#c51b7d\"], [0.2, \"#de77ae\"], [0.3, \"#f1b6da\"], [0.4, \"#fde0ef\"], [0.5, \"#f7f7f7\"], [0.6, \"#e6f5d0\"], [0.7, \"#b8e186\"], [0.8, \"#7fbc41\"], [0.9, \"#4d9221\"], [1, \"#276419\"]], \"sequential\": [[0.0, \"#0d0887\"], [0.1111111111111111, \"#46039f\"], [0.2222222222222222, \"#7201a8\"], [0.3333333333333333, \"#9c179e\"], [0.4444444444444444, \"#bd3786\"], [0.5555555555555556, \"#d8576b\"], [0.6666666666666666, \"#ed7953\"], [0.7777777777777778, \"#fb9f3a\"], [0.8888888888888888, \"#fdca26\"], [1.0, \"#f0f921\"]], \"sequentialminus\": [[0.0, \"#0d0887\"], [0.1111111111111111, \"#46039f\"], [0.2222222222222222, \"#7201a8\"], [0.3333333333333333, \"#9c179e\"], [0.4444444444444444, \"#bd3786\"], [0.5555555555555556, \"#d8576b\"], [0.6666666666666666, \"#ed7953\"], [0.7777777777777778, \"#fb9f3a\"], [0.8888888888888888, \"#fdca26\"], [1.0, \"#f0f921\"]]}, \"colorway\": [\"#636efa\", \"#EF553B\", \"#00cc96\", \"#ab63fa\", \"#FFA15A\", \"#19d3f3\", \"#FF6692\", \"#B6E880\", \"#FF97FF\", \"#FECB52\"], \"font\": {\"color\": \"#2a3f5f\"}, \"geo\": {\"bgcolor\": \"white\", \"lakecolor\": \"white\", \"landcolor\": \"#E5ECF6\", \"showlakes\": true, \"showland\": true, \"subunitcolor\": \"white\"}, \"hoverlabel\": {\"align\": \"left\"}, \"hovermode\": \"closest\", \"mapbox\": {\"style\": \"light\"}, \"paper_bgcolor\": \"white\", \"plot_bgcolor\": \"#E5ECF6\", \"polar\": {\"angularaxis\": {\"gridcolor\": \"white\", \"linecolor\": \"white\", \"ticks\": \"\"}, \"bgcolor\": \"#E5ECF6\", \"radialaxis\": {\"gridcolor\": \"white\", \"linecolor\": \"white\", \"ticks\": \"\"}}, \"scene\": {\"xaxis\": {\"backgroundcolor\": \"#E5ECF6\", \"gridcolor\": \"white\", \"gridwidth\": 2, \"linecolor\": \"white\", \"showbackground\": true, \"ticks\": \"\", \"zerolinecolor\": \"white\"}, \"yaxis\": {\"backgroundcolor\": \"#E5ECF6\", \"gridcolor\": \"white\", \"gridwidth\": 2, \"linecolor\": \"white\", \"showbackground\": true, \"ticks\": \"\", \"zerolinecolor\": \"white\"}, \"zaxis\": {\"backgroundcolor\": \"#E5ECF6\", \"gridcolor\": \"white\", \"gridwidth\": 2, \"linecolor\": \"white\", \"showbackground\": true, \"ticks\": \"\", \"zerolinecolor\": \"white\"}}, \"shapedefaults\": {\"line\": {\"color\": \"#2a3f5f\"}}, \"ternary\": {\"aaxis\": {\"gridcolor\": \"white\", \"linecolor\": \"white\", \"ticks\": \"\"}, \"baxis\": {\"gridcolor\": \"white\", \"linecolor\": \"white\", \"ticks\": \"\"}, \"bgcolor\": \"#E5ECF6\", \"caxis\": {\"gridcolor\": \"white\", \"linecolor\": \"white\", \"ticks\": \"\"}}, \"title\": {\"x\": 0.05}, \"xaxis\": {\"automargin\": true, \"gridcolor\": \"white\", \"linecolor\": \"white\", \"ticks\": \"\", \"title\": {\"standoff\": 15}, \"zerolinecolor\": \"white\", \"zerolinewidth\": 2}, \"yaxis\": {\"automargin\": true, \"gridcolor\": \"white\", \"linecolor\": \"white\", \"ticks\": \"\", \"title\": {\"standoff\": 15}, \"zerolinecolor\": \"white\", \"zerolinewidth\": 2}}}, \"title\": {\"font\": {\"family\": \"Times New Roman\", \"size\": 23}, \"text\": \"2021-0408 \\u7d71\\u4e00\\u671f\\u8ca8\\u7f8e\\u91d1\\u4fdd\\u8b49\\u91d1\"}, \"width\": 1200},                        {\"responsive\": true}                    ).then(function(){\n",
       "                            \n",
       "var gd = document.getElementById('32be03c2-c571-4d55-948b-da4a00695b46');\n",
       "var x = new MutationObserver(function (mutations, observer) {{\n",
       "        var display = window.getComputedStyle(gd).display;\n",
       "        if (!display || display === 'none') {{\n",
       "            console.log([gd, 'removed!']);\n",
       "            Plotly.purge(gd);\n",
       "            observer.disconnect();\n",
       "        }}\n",
       "}});\n",
       "\n",
       "// Listen for the removal of the full notebook cells\n",
       "var notebookContainer = gd.closest('#notebook-container');\n",
       "if (notebookContainer) {{\n",
       "    x.observe(notebookContainer, {childList: true});\n",
       "}}\n",
       "\n",
       "// Listen for the clearing of the current output cell\n",
       "var outputEl = gd.closest('.output');\n",
       "if (outputEl) {{\n",
       "    x.observe(outputEl, {childList: true});\n",
       "}}\n",
       "\n",
       "                        })                };                });            </script>        </div>"
      ]
     },
     "metadata": {},
     "output_type": "display_data"
    }
   ],
   "source": [
    "import pandas as pd\n",
    "import plotly.express as px\n",
    "import time\n",
    "\n",
    "shs = pd.ExcelFile('RiskControl.xlsx').sheet_names\n",
    "date_ = shs[-2]  #        日期修改在這裡!!!!!!!!!\n",
    "\n",
    "\n",
    "df = pd.read_excel('RiskControl.xlsx', sheet_name=date_)\n",
    "df[\"日期\"] = date_\n",
    "\n",
    "for broker in [\"ADM\",\"IFP\",\"PHI\",\"SCG\"]:\n",
    "    df1 = df[df['上手'].isin([broker]) & df['幣別'].isin(['USD'])]\n",
    "    df_up5 = df1[df1[\"占比\"]>=0.05]\n",
    "    df_low5 = df1[df1[\"占比\"]<0.05]\n",
    "    new = pd.DataFrame.from_dict({\"上手\":[broker],\n",
    "                                  \"商品\":['Other'],\n",
    "                                  \"月份\":[\"Other\"],\n",
    "                                  \"交易所\":[\"Other\"],\n",
    "                                  \"買方口數\":[df_low5.買方口數.sum()],\n",
    "                                  \"賣方口數\":[df_low5.賣方口數.sum()],\n",
    "                                  \"保證金\":[0],\n",
    "                                  \"加總\":[df_low5.加總.sum()],\n",
    "                                  \"結算價\":['0'],\n",
    "                                  \"幣別\":['USD'],\n",
    "                                  \"占比\":[df_low5.占比.sum()],\n",
    "                                  \"調整後保證金\":[df_low5.調整後保證金.sum()],\n",
    "                                  \"日期\":[date_]})\n",
    "    df_up5 = df_up5.append(new, ignore_index=True)\n",
    "    df_all_up5 = df_up5 if broker == \"ADM\" else pd.concat([df_up5, df_all_up5], axis=0)\n",
    "\n",
    "fig = px.sunburst(df_all_up5, path=[\"上手\", \"商品\",\"月份\"],\n",
    "                  values='加總',width=1200, height=800,\n",
    "                  color = '上手',\n",
    "                  labels  = {\"加總\":\"權益數\"},\n",
    "                  color_discrete_sequence=px.colors.qualitative.G10,\n",
    "                  maxdepth = 3,\n",
    "                  branchvalues='total',\n",
    "                  title = shs[-1] + \" 統一期貨美金保證金\"\n",
    "                  )\n",
    "\n",
    "fig.update_traces(textinfo = 'label+percent entry+value+text',\n",
    "                  insidetextfont=dict(size=23,family='Times New Roman')                \n",
    "                  )\n",
    "fig.update_layout(title_font=dict(size=23,family='Times New Roman'))\n",
    "fig.show()"
   ]
  }
 ],
 "metadata": {
  "kernelspec": {
   "display_name": "Python 3",
   "language": "python",
   "name": "python3"
  },
  "language_info": {
   "codemirror_mode": {
    "name": "ipython",
    "version": 3
   },
   "file_extension": ".py",
   "mimetype": "text/x-python",
   "name": "python",
   "nbconvert_exporter": "python",
   "pygments_lexer": "ipython3",
   "version": "3.8.2"
  },
  "varInspector": {
   "cols": {
    "lenName": 16,
    "lenType": 16,
    "lenVar": 40
   },
   "kernels_config": {
    "python": {
     "delete_cmd_postfix": "",
     "delete_cmd_prefix": "del ",
     "library": "var_list.py",
     "varRefreshCmd": "print(var_dic_list())"
    },
    "r": {
     "delete_cmd_postfix": ") ",
     "delete_cmd_prefix": "rm(",
     "library": "var_list.r",
     "varRefreshCmd": "cat(var_dic_list()) "
    }
   },
   "types_to_exclude": [
    "module",
    "function",
    "builtin_function_or_method",
    "instance",
    "_Feature"
   ],
   "window_display": false
  }
 },
 "nbformat": 4,
 "nbformat_minor": 4
}
